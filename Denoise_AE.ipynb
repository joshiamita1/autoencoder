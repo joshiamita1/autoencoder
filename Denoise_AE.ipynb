{
  "nbformat": 4,
  "nbformat_minor": 0,
  "metadata": {
    "colab": {
      "name": "Denoise_AE.ipynb",
      "provenance": [],
      "collapsed_sections": [],
      "include_colab_link": true
    },
    "kernelspec": {
      "name": "python3",
      "display_name": "Python 3"
    },
    "accelerator": "GPU"
  },
  "cells": [
    {
      "cell_type": "markdown",
      "metadata": {
        "id": "view-in-github",
        "colab_type": "text"
      },
      "source": [
        "<a href=\"https://colab.research.google.com/github/joshiamita1/autoencoder/blob/master/Denoise_AE.ipynb\" target=\"_parent\"><img src=\"https://colab.research.google.com/assets/colab-badge.svg\" alt=\"Open In Colab\"/></a>"
      ]
    },
    {
      "cell_type": "code",
      "metadata": {
        "id": "G9tnkOsyTMiQ",
        "colab_type": "code",
        "colab": {}
      },
      "source": [
        "import torch\n",
        "import torch.nn as nn\n",
        "import torch.nn.functional as F\n",
        "import torch.optim as optim\n",
        "from torch.utils.tensorboard import SummaryWriter # TensorBoard support\n",
        "import copy\n",
        "# import torchvision module to handle image manipulation\n",
        "import torchvision\n",
        "import torchvision.transforms as transforms\n",
        "\n",
        "# calculate train time, writing train data to files etc.\n",
        "import time\n",
        "import pandas as pd\n",
        "import json\n",
        "# https://github.com/andreasveit/triplet-network-pytorch\n",
        "import torch.nn.functional as F\n",
        "import torch.nn as nn\n",
        "import torch.optim as optim\n",
        "import torch\n",
        "import pandas as pd\n",
        "import torchvision\n",
        "import matplotlib.pyplot as plt\n",
        "import matplotlib.image as mpimg\n",
        "from torch.autograd import Variable\n",
        "from scipy.spatial import distance\n",
        "from torchvision import datasets, transforms\n",
        "from torch.utils.data import TensorDataset, DataLoader, RandomSampler, SequentialSampler\n",
        "from sklearn.metrics import average_precision_score\n",
        "from sklearn import metrics\n",
        "from sklearn.metrics import precision_score\n",
        "from sklearn.neighbors import KNeighborsClassifier\n",
        "from torch import nn, optim\n",
        "from torch import nn, optim\n",
        "import torch.utils.data as data\n",
        "from PIL import Image\n",
        "import os\n",
        "import random\n",
        "import os.path\n",
        "import errno\n",
        "import json\n",
        "import math\n",
        "import csv\n",
        "import codecs\n",
        "import numpy as np\n",
        "from functional import reset_normal_param, LinearWeightNorm\n",
        "\n",
        "from torch.nn.parameter import Parameter\n",
        "import pdb\n",
        "from sklearn.feature_extraction.text import TfidfVectorizer\n",
        "from sklearn.utils.random import sample_without_replacement\n",
        "import random\n",
        "from sklearn.decomposition import PCA\n",
        "from sklearn.manifold import TSNE\n",
        "import seaborn as sns\n",
        "import warnings\n",
        "warnings.filterwarnings(\"ignore\")\n",
        "from torch.autograd import Variable\n",
        "import warnings \n",
        "warnings.filterwarnings('ignore')\n",
        "def feature_extractor(data,dis):\n",
        "    global output_dim\n",
        "    feature_data = []\n",
        "    for i in data:\n",
        "        feature_data.append(dis(torch.from_numpy(np.array(i)).cuda()).detach().cpu().numpy().reshape(32,))\n",
        "    return feature_data\n",
        "\n",
        "def tsne_plot(dataset_main,dataset_main1,label_main,label_main1,title1,title2,classes):\n",
        "    #TSNE Plot for glass dataset\n",
        "    tsne = TSNE(n_components=2, verbose=1, perplexity=10, n_iter=400)\n",
        "    # tsne_results = tsne.fit_transform(dataset_main)\n",
        "    tsne_results1 = tsne.fit_transform(dataset_main1)\n",
        "    df_subset = pd.DataFrame()\n",
        "    # df_subset['X'] = tsne_results[:,0]\n",
        "    # df_subset['y']=label_main\n",
        "    # df_subset['Y'] = tsne_results[:,1]\n",
        "    # plt.figure(figsize=(6,4))\n",
        "    # plt.title(title1)\n",
        "    # sns.scatterplot(\n",
        "    #     x=\"X\", y=\"Y\",\n",
        "    #     hue=\"y\",\n",
        "    #     palette=sns.color_palette(\"hls\", classes),\n",
        "    #     data=df_subset,\n",
        "    #     legend=\"brief\",\n",
        "    #     alpha=1.0,\n",
        "        \n",
        "    # )\n",
        "    plt.figure(figsize=(6,4))\n",
        "    plt.title(title2)\n",
        "    df_subset = pd.DataFrame()\n",
        "    df_subset['X'] = tsne_results1[:,0]\n",
        "    df_subset['y']=label_main1\n",
        "    df_subset['Y'] = tsne_results1[:,1]\n",
        "#     plt.figure(figsize=(6,4))\n",
        "#     plt.title(title)\n",
        "    sns.scatterplot(\n",
        "        x=\"X\", y=\"Y\",\n",
        "        hue=\"y\",\n",
        "        palette=sns.hls_palette(classes, l=.3, s=.8),\n",
        "        data=df_subset,\n",
        "        legend=\"brief\",\n",
        "        alpha=1.0,\n",
        "       \n",
        "    )\n",
        "\n",
        "def evaluation(test_features,test_label,neigh):\n",
        "#     predict_proba = neigh.predict_proba(test_features)\n",
        "#     y_score = []\n",
        "#     for i in range(len(predict_proba)):\n",
        "#         y_score.append(predict_proba[i][test_label[i]])\n",
        "#     report = metrics.classification_report(test_label, neigh.predict(test_features), output_dict=True)\n",
        "#     df = pd.DataFrame(report).transpose()\n",
        "#     mAP = np.mean(np.array(df[\"precision\"]))\n",
        "    predict_test = neigh.predict(test_features)\n",
        "    mAP = 0\n",
        "    den = 0\n",
        "    num = 0\n",
        "    for i in range(len(test_features)):\n",
        "        \n",
        "        if test_label[i] == predict_test[i]:\n",
        "            den +=1\n",
        "            num +=1\n",
        "        else:\n",
        "            den +=1\n",
        "        mAP +=num/den\n",
        "        \n",
        "    return mAP/len(test_features),neigh.score(test_features,test_label)\n"
      ],
      "execution_count": null,
      "outputs": []
    },
    {
      "cell_type": "code",
      "metadata": {
        "id": "F1JYipcusRIZ",
        "colab_type": "code",
        "colab": {
          "base_uri": "https://localhost:8080/",
          "height": 279
        },
        "outputId": "f2e15f6c-5780-4d24-eb9f-f3a1a1007d1f"
      },
      "source": [
        "import pandas as pd\n",
        "import seaborn as sn\n",
        "import matplotlib.pyplot as plt\n",
        "\n",
        "data = {'y_Actual':    test_label,\n",
        "        'y_Predicted': neigh.predict(test_features)\n",
        "        }\n",
        "\n",
        "df = pd.DataFrame(data, columns=['y_Actual','y_Predicted'])\n",
        "confusion_matrix = pd.crosstab(df['y_Actual'], df['y_Predicted'], rownames=['Actual'], colnames=['Predicted'])\n",
        "\n",
        "sn.heatmap(confusion_matrix,fmt='',annot=True)\n",
        "plt.show()"
      ],
      "execution_count": null,
      "outputs": [
        {
          "output_type": "display_data",
          "data": {
            "image/png": "[encoded data removed]",
            "text/plain": [
              "<Figure size 432x288 with 2 Axes>"
            ]
          },
          "metadata": {
            "tags": [],
            "needs_background": "light"
          }
        }
      ]
    },
    {
      "cell_type": "code",
      "metadata": {
        "id": "TH32zJjzqNOi",
        "colab_type": "code",
        "colab": {
          "base_uri": "https://localhost:8080/",
          "height": 567
        },
        "outputId": "50d0c89d-a65e-4df9-da26-cca693e14603"
      },
      "source": [
        "tsne_plot(train_features,test_features,train_label,test_label,\"TSNE plot for training data's latent representation by discriminator\",\n",
        "          \"TSNE plot for testing data's latent representation by discriminator\",10)"
      ],
      "execution_count": null,
      "outputs": [
        {
          "output_type": "stream",
          "text": [
            "[t-SNE] Computing 31 nearest neighbors...\n",
            "[t-SNE] Indexed 10000 samples in 0.033s...\n",
            "[t-SNE] Computed neighbors for 10000 samples in 1.042s...\n",
            "[t-SNE] Computed conditional probabilities for sample 1000 / 10000\n",
            "[t-SNE] Computed conditional probabilities for sample 2000 / 10000\n",
            "[t-SNE] Computed conditional probabilities for sample 3000 / 10000\n",
            "[t-SNE] Computed conditional probabilities for sample 4000 / 10000\n",
            "[t-SNE] Computed conditional probabilities for sample 5000 / 10000\n",
            "[t-SNE] Computed conditional probabilities for sample 6000 / 10000\n",
            "[t-SNE] Computed conditional probabilities for sample 7000 / 10000\n",
            "[t-SNE] Computed conditional probabilities for sample 8000 / 10000\n",
            "[t-SNE] Computed conditional probabilities for sample 9000 / 10000\n",
            "[t-SNE] Computed conditional probabilities for sample 10000 / 10000\n",
            "[t-SNE] Mean sigma: 1.520201\n",
            "[t-SNE] KL divergence after 250 iterations with early exaggeration: 83.119537\n",
            "[t-SNE] KL divergence after 400 iterations: 2.264699\n"
          ],
          "name": "stdout"
        },
        {
          "output_type": "display_data",
          "data": {
            "image/png": "[encoded data removed]",
            "text/plain": [
              "<Figure size 432x288 with 1 Axes>"
            ]
          },
          "metadata": {
            "tags": [],
            "needs_background": "light"
          }
        }
      ]
    },
    {
      "cell_type": "code",
      "metadata": {
        "id": "zzhwd7DFqPKc",
        "colab_type": "code",
        "colab": {
          "base_uri": "https://localhost:8080/",
          "height": 51
        },
        "outputId": "787e7258-9bee-4c49-acba-578a342c9f98"
      },
      "source": [
        "neigh = KNeighborsClassifier(n_neighbors=9)\n",
        "neigh = neigh.fit(train_features, train_label)\n",
        "mAP,acc = evaluation(test_features,test_label,neigh)\n",
        "print(\"Accuracy on Test data : \",acc)\n",
        "print(\"Mean Average Precision for test data : \",mAP)"
      ],
      "execution_count": null,
      "outputs": [
        {
          "output_type": "stream",
          "text": [
            "Accuracy on Test data :  0.96\n",
            "Mean Average Precision for test data :  0.9503874035138228\n"
          ],
          "name": "stdout"
        }
      ]
    },
    {
      "cell_type": "code",
      "metadata": {
        "id": "tguH_evnqGyR",
        "colab_type": "code",
        "colab": {}
      },
      "source": [
        "train_features = feature_extractor(train_data,dis)\n",
        "test_features = feature_extractor(test_data,dis)"
      ],
      "execution_count": null,
      "outputs": []
    },
    {
      "cell_type": "code",
      "metadata": {
        "id": "LywxvZN1Vm7T",
        "colab_type": "code",
        "colab": {}
      },
      "source": [
        "import numpy as np\n",
        "from torchvision import datasets\n",
        "import torchvision.transforms as transforms\n",
        "\n",
        "# convert data to torch.FloatTensor\n",
        "transform = transforms.ToTensor()\n",
        "\n",
        "# load the training and test datasets\n",
        "train_data = datasets.MNIST(root='data', train=True,\n",
        "                                   download=True, transform=transform)\n",
        "test_data = datasets.MNIST(root='data', train=False,\n",
        "                                  download=True, transform=transform)\n",
        "train_data, val_set = torch.utils.data.random_split(train_data, [50000, 10000])\n",
        "\n",
        "# Create training and test dataloaders\n",
        "num_workers = 0\n",
        "# how many samples per batch to load\n",
        "batch_size = 64\n",
        "\n",
        "# prepare data loaders\n",
        "train_loader = torch.utils.data.DataLoader(train_data, batch_size=batch_size, num_workers=num_workers)\n",
        "val_loader = torch.utils.data.DataLoader(val_set, batch_size=batch_size, num_workers=num_workers)\n",
        "test_loader = torch.utils.data.DataLoader(test_data, batch_size=batch_size, num_workers=num_workers)"
      ],
      "execution_count": null,
      "outputs": []
    },
    {
      "cell_type": "code",
      "metadata": {
        "id": "HRC9kZ1zqb1U",
        "colab_type": "code",
        "colab": {}
      },
      "source": [
        "train_data = []\n",
        "train_label = []\n",
        "for (i,j) in train_loader:\n",
        "    for k in range(len(i)):\n",
        "        train_data.append(i[k].numpy())\n",
        "        train_label.append(j[k].numpy().item())"
      ],
      "execution_count": null,
      "outputs": []
    },
    {
      "cell_type": "code",
      "metadata": {
        "id": "_zZ6q3Y8qex_",
        "colab_type": "code",
        "colab": {}
      },
      "source": [
        "test_data = []\n",
        "test_label = []\n",
        "for (i,j) in test_loader:\n",
        "    for k in range(len(i)):\n",
        "        test_data.append(i[k].numpy())\n",
        "        test_label.append(j[k].numpy().item())"
      ],
      "execution_count": null,
      "outputs": []
    },
    {
      "cell_type": "code",
      "metadata": {
        "id": "Kb5I2ADsqw2u",
        "colab_type": "code",
        "colab": {}
      },
      "source": [
        "class Discriminator(nn.Module):\n",
        "    def __init__(self, input_dim = 28 ** 2, output_dim = 10):\n",
        "        super(Discriminator, self).__init__()\n",
        "        self.input_dim = input_dim\n",
        "        self.layers = torch.nn.ModuleList([\n",
        "            LinearWeightNorm(input_dim, 1500),\n",
        "            LinearWeightNorm(1500, 1000),\n",
        "            LinearWeightNorm(1000, 800),\n",
        "            LinearWeightNorm(800, 400),\n",
        "            LinearWeightNorm(400, 250)]\n",
        "        )\n",
        "        self.final = nn.Linear(250, output_dim)\n",
        "#         self.real_fake = nn.Linear(output_dim,1)\n",
        "#         self.sig = nn.Sigmoid()\n",
        "        nn.init.xavier_uniform(self.final.weight)\n",
        "\n",
        "    def forward(self, x, feature = False, cuda = False):\n",
        "        x = x.view(-1, self.input_dim)\n",
        "        noise = torch.randn(x.size()) * 0.3 if self.training else torch.Tensor([0])\n",
        "        noise = noise.cuda()\n",
        "        x = x + Variable(noise, requires_grad = False)\n",
        "        for i in range(len(self.layers)):\n",
        "            m = self.layers[i]\n",
        "            x_f = F.relu(m(x))\n",
        "            noise = torch.randn(x_f.size()) * 0.5 if self.training else torch.Tensor([0])\n",
        "            noise = noise.cuda()\n",
        "            x = (x_f + Variable(noise, requires_grad = False))\n",
        "            x = x_f\n",
        "        \n",
        "        x_r =  self.final(x)\n",
        "#         real_fake_p = self.sig(self.real_fake(x_r))\n",
        "        if feature:\n",
        "            return x_f, x_r\n",
        "        return x_r\n",
        "    "
      ],
      "execution_count": null,
      "outputs": []
    },
    {
      "cell_type": "code",
      "metadata": {
        "id": "UP_z-V0jqx7u",
        "colab_type": "code",
        "colab": {}
      },
      "source": [
        "dis = Discriminator(32)"
      ],
      "execution_count": null,
      "outputs": []
    },
    {
      "cell_type": "code",
      "metadata": {
        "id": "CO7PiWihp2Bz",
        "colab_type": "code",
        "colab": {}
      },
      "source": [
        "dis = torch.load(\"disc.pkl\")"
      ],
      "execution_count": null,
      "outputs": []
    },
    {
      "cell_type": "code",
      "metadata": {
        "id": "s1XSvGDNWgp9",
        "colab_type": "code",
        "colab": {
          "base_uri": "https://localhost:8080/",
          "height": 336
        },
        "outputId": "d00e7493-ffad-4695-811b-3885dd6362f7"
      },
      "source": [
        "import matplotlib.pyplot as plt\n",
        "%matplotlib inline\n",
        "    \n",
        "# obtain one batch of training images\n",
        "dataiter = iter(train_loader)\n",
        "images, labels = dataiter.next()\n",
        "images = images.numpy()\n",
        "\n",
        "# get one image from the batch\n",
        "img = np.squeeze(images[0])\n",
        "\n",
        "fig = plt.figure(figsize = (5,5)) \n",
        "ax = fig.add_subplot(111)\n",
        "ax.imshow(img, cmap='gray')"
      ],
      "execution_count": null,
      "outputs": [
        {
          "output_type": "execute_result",
          "data": {
            "text/plain": [
              "<matplotlib.image.AxesImage at 0x7f53f08167b8>"
            ]
          },
          "metadata": {
            "tags": []
          },
          "execution_count": 187
        },
        {
          "output_type": "display_data",
          "data": {
            "image/png": "[encoded data removed]",
            "text/plain": [
              "<Figure size 360x360 with 1 Axes>"
            ]
          },
          "metadata": {
            "tags": [],
            "needs_background": "light"
          }
        }
      ]
    },
    {
      "cell_type": "code",
      "metadata": {
        "id": "mumPQO1KMY5f",
        "colab_type": "code",
        "colab": {}
      },
      "source": [
        "# import torch.nn as nn\n",
        "# import torch.nn.functional as F\n",
        "class autoencoder1(nn.Module):\n",
        "    def __init__(self):\n",
        "        super(autoencoder1, self).__init__()\n",
        "        self.encoder = nn.Sequential(\n",
        "            nn.Conv2d(1, 32, 3, padding =1),\n",
        "            nn.ReLU(True),\n",
        "            nn.MaxPool2d(2, 2),\n",
        "            nn.Conv2d(32, 16, 3, padding=1),\n",
        "            nn.ReLU(True),\n",
        "            nn.MaxPool2d(2, 2),\n",
        "            nn.Conv2d(16, 8, 3, padding=1),\n",
        "            nn.ReLU(True),\n",
        "            nn.MaxPool2d(2, 2))\n",
        "        \n",
        "\n",
        "        self.decoder = nn.Sequential(\n",
        "            nn.ConvTranspose2d(8, 8, 3, stride=2),\n",
        "            nn.ReLU(True),\n",
        "            nn.ConvTranspose2d(8, 16, 2, stride=2),\n",
        "            nn.ReLU(True),\n",
        "            nn.ConvTranspose2d(16, 32, 2, stride=2),\n",
        "            nn.ReLU(True),\n",
        "            nn.Conv2d(32, 1, 3, padding=1),\n",
        "            nn.Sigmoid())\n",
        "\n",
        "    def forward(self, x):\n",
        "        x = self.encoder(x)\n",
        "        # print(x.shape)\n",
        "        x = self.decoder(x)\n",
        "        return x"
      ],
      "execution_count": null,
      "outputs": []
    },
    {
      "cell_type": "code",
      "metadata": {
        "id": "wVb-4YC5YQeD",
        "colab_type": "code",
        "colab": {
          "base_uri": "https://localhost:8080/",
          "height": 385
        },
        "outputId": "09171249-4215-4f4a-b259-075e51d87597"
      },
      "source": [
        "\n",
        "# initialize the NN\n",
        "model = autoencoder1();\n",
        "print(model);\n",
        "model.cuda();\n",
        "# model.cuda()\n",
        "# specify loss function\n",
        "\n",
        "#loss function and optimizer\n",
        "criterion = nn.MSELoss();\n",
        "optimizer = torch.optim.Adam(model.parameters(), lr=0.0001);"
      ],
      "execution_count": null,
      "outputs": [
        {
          "output_type": "stream",
          "text": [
            "autoencoder1(\n",
            "  (encoder): Sequential(\n",
            "    (0): Conv2d(1, 32, kernel_size=(3, 3), stride=(1, 1), padding=(1, 1))\n",
            "    (1): ReLU(inplace=True)\n",
            "    (2): MaxPool2d(kernel_size=2, stride=2, padding=0, dilation=1, ceil_mode=False)\n",
            "    (3): Conv2d(32, 16, kernel_size=(3, 3), stride=(1, 1), padding=(1, 1))\n",
            "    (4): ReLU(inplace=True)\n",
            "    (5): MaxPool2d(kernel_size=2, stride=2, padding=0, dilation=1, ceil_mode=False)\n",
            "    (6): Conv2d(16, 8, kernel_size=(3, 3), stride=(1, 1), padding=(1, 1))\n",
            "    (7): ReLU(inplace=True)\n",
            "    (8): MaxPool2d(kernel_size=2, stride=2, padding=0, dilation=1, ceil_mode=False)\n",
            "  )\n",
            "  (decoder): Sequential(\n",
            "    (0): ConvTranspose2d(8, 8, kernel_size=(3, 3), stride=(2, 2))\n",
            "    (1): ReLU(inplace=True)\n",
            "    (2): ConvTranspose2d(8, 16, kernel_size=(2, 2), stride=(2, 2))\n",
            "    (3): ReLU(inplace=True)\n",
            "    (4): ConvTranspose2d(16, 32, kernel_size=(2, 2), stride=(2, 2))\n",
            "    (5): ReLU(inplace=True)\n",
            "    (6): Conv2d(32, 1, kernel_size=(3, 3), stride=(1, 1), padding=(1, 1))\n",
            "    (7): Sigmoid()\n",
            "  )\n",
            ")\n"
          ],
          "name": "stdout"
        }
      ]
    },
    {
      "cell_type": "code",
      "metadata": {
        "id": "d_MELXd_WjQ4",
        "colab_type": "code",
        "colab": {}
      },
      "source": [
        "def add_noise(img):\n",
        "    noise = torch.randn(img.size()) * 0.2\n",
        "    noisy_img = img + noise\n",
        "    return noisy_img"
      ],
      "execution_count": null,
      "outputs": []
    },
    {
      "cell_type": "code",
      "metadata": {
        "id": "VvCRJzSLYXzM",
        "colab_type": "code",
        "colab": {
          "base_uri": "https://localhost:8080/",
          "height": 1000
        },
        "outputId": "31010bc0-8d37-4539-d240-ca223cb8ffd7"
      },
      "source": [
        "n_epochs = 50\n",
        "# Model M1\n",
        "# for adding noise to images\n",
        "noise_factor=0.5\n",
        "epoch_loss = []\n",
        "for epoch in range(1, n_epochs+1):\n",
        "    # monitor training loss\n",
        "    train_loss = 0.0\n",
        "    \n",
        "    ###################\n",
        "    # train the model #\n",
        "    ###################\n",
        "    for data in train_loader:\n",
        "        # _ stands in for labels, here\n",
        "        # no need to flatten images\n",
        "        images, _ = data\n",
        "        \n",
        "        ## add random noise to the input images\n",
        "        noisy_imgs = images + noise_factor * torch.randn(*images.shape)\n",
        "        \n",
        "        # Clip the images to be between 0 and 1\n",
        "        noisy_imgs = np.clip(noisy_imgs, 0., 1.)\n",
        "        noisy_imgs = noisy_imgs.cuda()\n",
        "      \n",
        "        # clear the gradients of all optimized variables\n",
        "        optimizer.zero_grad()\n",
        "        ## forward pass: compute predicted outputs by passing *noisy* images to the model\n",
        "        outputs= model(noisy_imgs)\n",
        "        # calculate the loss\n",
        "        # the \"target\" is still the original, not-noisy images\n",
        "        loss = criterion(outputs, images.cuda())\n",
        "        # backward pass: compute gradient of the loss with respect to model parameters\n",
        "        loss.backward()\n",
        "        # perform a single optimization step (parameter update)\n",
        "        optimizer.step()\n",
        "        # update running training loss\n",
        "        train_loss += loss.item()*images.size(0)\n",
        "\n",
        "            \n",
        "    # print avg training statistics \n",
        "    train_loss = train_loss/len(train_loader)\n",
        "    epoch_loss.append(train_loss)\n",
        "    print('Epoch: {} \\tTraining Loss: {:.6f}'.format(\n",
        "        epoch, \n",
        "        train_loss\n",
        "        ))\n",
        "    val_loss = 0.0\n",
        "    with torch.no_grad():\n",
        "      for data in val_loader:\n",
        "        images, labels = data\n",
        "\n",
        "        ## add random noise to the input images\n",
        "        noisy_imgs = images + noise_factor * torch.randn(*images.shape)\n",
        "\n",
        "        # Clip the images to be between 0 and 1\n",
        "        noisy_imgs = np.clip(noisy_imgs, 0., 1.)\n",
        "        noisy_imgs = noisy_imgs.cuda()\n",
        "        outputs = model(noisy_imgs)\n",
        "        # print(outputs)\n",
        "        loss1 = criterion(outputs, images.cuda())\n",
        "        val_loss += loss1.item()*images.size(0)\n",
        "    print(\"Epoch \",epoch,\" , Validation loss \",val_loss/len(val_loader))"
      ],
      "execution_count": null,
      "outputs": [
        {
          "output_type": "stream",
          "text": [
            "Epoch: 1 \tTraining Loss: 7.999018\n",
            "Epoch  1  , Validation loss  5.510554494371839\n",
            "Epoch: 2 \tTraining Loss: 4.829833\n",
            "Epoch  2  , Validation loss  4.565025886912255\n",
            "Epoch: 3 \tTraining Loss: 3.983632\n",
            "Epoch  3  , Validation loss  3.4781432618760757\n",
            "Epoch: 4 \tTraining Loss: 3.312418\n",
            "Epoch  4  , Validation loss  3.1134934505079963\n",
            "Epoch: 5 \tTraining Loss: 3.020571\n",
            "Epoch  5  , Validation loss  2.9159167196340623\n",
            "Epoch: 6 \tTraining Loss: 2.853076\n",
            "Epoch  6  , Validation loss  2.7558487395572056\n",
            "Epoch: 7 \tTraining Loss: 2.712865\n",
            "Epoch  7  , Validation loss  2.643506188681171\n",
            "Epoch: 8 \tTraining Loss: 2.606138\n",
            "Epoch  8  , Validation loss  2.545642918841854\n",
            "Epoch: 9 \tTraining Loss: 2.514097\n",
            "Epoch  9  , Validation loss  2.4572394562375015\n",
            "Epoch: 10 \tTraining Loss: 2.433991\n",
            "Epoch  10  , Validation loss  2.39225084007166\n",
            "Epoch: 11 \tTraining Loss: 2.371241\n",
            "Epoch  11  , Validation loss  2.3307842323734502\n",
            "Epoch: 12 \tTraining Loss: 2.316395\n",
            "Epoch  12  , Validation loss  2.279720593409933\n",
            "Epoch: 13 \tTraining Loss: 2.267594\n",
            "Epoch  13  , Validation loss  2.2361695191283135\n",
            "Epoch: 14 \tTraining Loss: 2.225346\n",
            "Epoch  14  , Validation loss  2.1964731930167813\n",
            "Epoch: 15 \tTraining Loss: 2.187048\n",
            "Epoch  15  , Validation loss  2.1608820559492536\n",
            "Epoch: 16 \tTraining Loss: 2.152820\n",
            "Epoch  16  , Validation loss  2.126044328045693\n",
            "Epoch: 17 \tTraining Loss: 2.121348\n",
            "Epoch  17  , Validation loss  2.092942024112507\n",
            "Epoch: 18 \tTraining Loss: 2.089886\n",
            "Epoch  18  , Validation loss  2.062940978320541\n",
            "Epoch: 19 \tTraining Loss: 2.061160\n",
            "Epoch  19  , Validation loss  2.0417747784192395\n",
            "Epoch: 20 \tTraining Loss: 2.035902\n",
            "Epoch  20  , Validation loss  2.0125470446173552\n",
            "Epoch: 21 \tTraining Loss: 2.014069\n",
            "Epoch  21  , Validation loss  1.9932174318155664\n",
            "Epoch: 22 \tTraining Loss: 1.995811\n",
            "Epoch  22  , Validation loss  1.9756027393659967\n",
            "Epoch: 23 \tTraining Loss: 1.979243\n",
            "Epoch  23  , Validation loss  1.9604045881587229\n",
            "Epoch: 24 \tTraining Loss: 1.962969\n",
            "Epoch  24  , Validation loss  1.9493468764481272\n",
            "Epoch: 25 \tTraining Loss: 1.948467\n",
            "Epoch  25  , Validation loss  1.9356142360313682\n",
            "Epoch: 26 \tTraining Loss: 1.933273\n",
            "Epoch  26  , Validation loss  1.919815600867484\n",
            "Epoch: 27 \tTraining Loss: 1.921856\n",
            "Epoch  27  , Validation loss  1.9112079265011344\n",
            "Epoch: 28 \tTraining Loss: 1.911196\n",
            "Epoch  28  , Validation loss  1.8956787409676108\n",
            "Epoch: 29 \tTraining Loss: 1.899396\n",
            "Epoch  29  , Validation loss  1.8821149920202365\n",
            "Epoch: 30 \tTraining Loss: 1.888669\n",
            "Epoch  30  , Validation loss  1.8731242919423778\n",
            "Epoch: 31 \tTraining Loss: 1.876834\n",
            "Epoch  31  , Validation loss  1.859165531814478\n",
            "Epoch: 32 \tTraining Loss: 1.870384\n",
            "Epoch  32  , Validation loss  1.855074592456696\n",
            "Epoch: 33 \tTraining Loss: 1.859633\n",
            "Epoch  33  , Validation loss  1.8517310556712423\n",
            "Epoch: 34 \tTraining Loss: 1.848484\n",
            "Epoch  34  , Validation loss  1.8386406321434459\n",
            "Epoch: 35 \tTraining Loss: 1.842065\n",
            "Epoch  35  , Validation loss  1.8336560037105707\n",
            "Epoch: 36 \tTraining Loss: 1.834774\n",
            "Epoch  36  , Validation loss  1.8239222696632336\n",
            "Epoch: 37 \tTraining Loss: 1.829070\n",
            "Epoch  37  , Validation loss  1.8125303427504886\n",
            "Epoch: 38 \tTraining Loss: 1.821428\n",
            "Epoch  38  , Validation loss  1.8089570841591829\n",
            "Epoch: 39 \tTraining Loss: 1.812352\n",
            "Epoch  39  , Validation loss  1.8052331566051314\n",
            "Epoch: 40 \tTraining Loss: 1.807812\n",
            "Epoch  40  , Validation loss  1.7944867172438628\n",
            "Epoch: 41 \tTraining Loss: 1.801932\n",
            "Epoch  41  , Validation loss  1.7879545189392794\n",
            "Epoch: 42 \tTraining Loss: 1.792578\n",
            "Epoch  42  , Validation loss  1.7910113554851266\n",
            "Epoch: 43 \tTraining Loss: 1.787959\n",
            "Epoch  43  , Validation loss  1.7750491336652428\n",
            "Epoch: 44 \tTraining Loss: 1.782163\n",
            "Epoch  44  , Validation loss  1.774489871445735\n",
            "Epoch: 45 \tTraining Loss: 1.778252\n",
            "Epoch  45  , Validation loss  1.7695419342274878\n",
            "Epoch: 46 \tTraining Loss: 1.770144\n",
            "Epoch  46  , Validation loss  1.7600487419374429\n",
            "Epoch: 47 \tTraining Loss: 1.767621\n",
            "Epoch  47  , Validation loss  1.7522363381780637\n",
            "Epoch: 48 \tTraining Loss: 1.759159\n",
            "Epoch  48  , Validation loss  1.7467325811932801\n",
            "Epoch: 49 \tTraining Loss: 1.754991\n",
            "Epoch  49  , Validation loss  1.7422621688645357\n",
            "Epoch: 50 \tTraining Loss: 1.748679\n",
            "Epoch  50  , Validation loss  1.742576826340074\n"
          ],
          "name": "stdout"
        }
      ]
    },
    {
      "cell_type": "code",
      "metadata": {
        "id": "9uSoGUZwOdJC",
        "colab_type": "code",
        "colab": {}
      },
      "source": [
        "torch.save(model,\"best_model1\")"
      ],
      "execution_count": null,
      "outputs": []
    },
    {
      "cell_type": "code",
      "metadata": {
        "id": "Eqva24wJp_Dt",
        "colab_type": "code",
        "colab": {}
      },
      "source": [
        "model = torch.load(\"best_model1\")"
      ],
      "execution_count": null,
      "outputs": []
    },
    {
      "cell_type": "code",
      "metadata": {
        "id": "dxXjgYIVRk4J",
        "colab_type": "code",
        "colab": {
          "base_uri": "https://localhost:8080/",
          "height": 385
        },
        "outputId": "49139f07-ea16-43b3-8e75-58489a14d980"
      },
      "source": [
        "model"
      ],
      "execution_count": null,
      "outputs": [
        {
          "output_type": "execute_result",
          "data": {
            "text/plain": [
              "autoencoder1(\n",
              "  (encoder): Sequential(\n",
              "    (0): Conv2d(1, 32, kernel_size=(3, 3), stride=(1, 1), padding=(1, 1))\n",
              "    (1): ReLU(inplace=True)\n",
              "    (2): MaxPool2d(kernel_size=2, stride=2, padding=0, dilation=1, ceil_mode=False)\n",
              "    (3): Conv2d(32, 16, kernel_size=(3, 3), stride=(1, 1), padding=(1, 1))\n",
              "    (4): ReLU(inplace=True)\n",
              "    (5): MaxPool2d(kernel_size=2, stride=2, padding=0, dilation=1, ceil_mode=False)\n",
              "    (6): Conv2d(16, 8, kernel_size=(3, 3), stride=(1, 1), padding=(1, 1))\n",
              "    (7): ReLU(inplace=True)\n",
              "    (8): MaxPool2d(kernel_size=2, stride=2, padding=0, dilation=1, ceil_mode=False)\n",
              "  )\n",
              "  (decoder): Sequential(\n",
              "    (0): ConvTranspose2d(8, 8, kernel_size=(3, 3), stride=(2, 2))\n",
              "    (1): ReLU(inplace=True)\n",
              "    (2): ConvTranspose2d(8, 16, kernel_size=(2, 2), stride=(2, 2))\n",
              "    (3): ReLU(inplace=True)\n",
              "    (4): ConvTranspose2d(16, 32, kernel_size=(2, 2), stride=(2, 2))\n",
              "    (5): ReLU(inplace=True)\n",
              "    (6): Conv2d(32, 1, kernel_size=(3, 3), stride=(1, 1), padding=(1, 1))\n",
              "    (7): Sigmoid()\n",
              "  )\n",
              ")"
            ]
          },
          "metadata": {
            "tags": []
          },
          "execution_count": 196
        }
      ]
    },
    {
      "cell_type": "code",
      "metadata": {
        "id": "ooRwg2foSFaq",
        "colab_type": "code",
        "colab": {}
      },
      "source": [
        "model1 =copy.deepcopy(model.encoder)"
      ],
      "execution_count": null,
      "outputs": []
    },
    {
      "cell_type": "code",
      "metadata": {
        "id": "PQ-1FFKBqi2g",
        "colab_type": "code",
        "colab": {
          "base_uri": "https://localhost:8080/",
          "height": 193
        },
        "outputId": "03fa43da-3075-4cfa-9a0e-21e6db172e96"
      },
      "source": [
        "model1"
      ],
      "execution_count": null,
      "outputs": [
        {
          "output_type": "execute_result",
          "data": {
            "text/plain": [
              "Sequential(\n",
              "  (0): Conv2d(1, 32, kernel_size=(3, 3), stride=(1, 1), padding=(1, 1))\n",
              "  (1): ReLU(inplace=True)\n",
              "  (2): MaxPool2d(kernel_size=2, stride=2, padding=0, dilation=1, ceil_mode=False)\n",
              "  (3): Conv2d(32, 16, kernel_size=(3, 3), stride=(1, 1), padding=(1, 1))\n",
              "  (4): ReLU(inplace=True)\n",
              "  (5): MaxPool2d(kernel_size=2, stride=2, padding=0, dilation=1, ceil_mode=False)\n",
              "  (6): Conv2d(16, 8, kernel_size=(3, 3), stride=(1, 1), padding=(1, 1))\n",
              "  (7): ReLU(inplace=True)\n",
              "  (8): MaxPool2d(kernel_size=2, stride=2, padding=0, dilation=1, ceil_mode=False)\n",
              ")"
            ]
          },
          "metadata": {
            "tags": []
          },
          "execution_count": 198
        }
      ]
    },
    {
      "cell_type": "code",
      "metadata": {
        "id": "i0WvvYBIY3np",
        "colab_type": "code",
        "colab": {}
      },
      "source": [
        "for param in model1.parameters():\n",
        "    param.requires_grad = False"
      ],
      "execution_count": null,
      "outputs": []
    },
    {
      "cell_type": "code",
      "metadata": {
        "id": "tLDP4mAFTH2J",
        "colab_type": "code",
        "colab": {
          "base_uri": "https://localhost:8080/",
          "height": 321
        },
        "outputId": "90a8ce73-641f-469e-a8d6-21132173cf2b"
      },
      "source": [
        "# pretraining part \n",
        "model1.f1 = nn.Flatten(1, 2)\n",
        "model1.f2 = nn.Flatten(1, 2)\n",
        "model1.fc1 = nn.Linear(72,40)\n",
        "model1.relu1 = nn.ReLU()\n",
        "model1.fc2 =  nn.Linear(40,20)\n",
        "model1.relu2 = nn.ReLU()\n",
        "model1.fc3 = nn.Linear(20,10)\n",
        "model1.sig = nn.Softmax()\n",
        "model1.cuda()"
      ],
      "execution_count": null,
      "outputs": [
        {
          "output_type": "execute_result",
          "data": {
            "text/plain": [
              "Sequential(\n",
              "  (0): Conv2d(1, 32, kernel_size=(3, 3), stride=(1, 1), padding=(1, 1))\n",
              "  (1): ReLU(inplace=True)\n",
              "  (2): MaxPool2d(kernel_size=2, stride=2, padding=0, dilation=1, ceil_mode=False)\n",
              "  (3): Conv2d(32, 16, kernel_size=(3, 3), stride=(1, 1), padding=(1, 1))\n",
              "  (4): ReLU(inplace=True)\n",
              "  (5): MaxPool2d(kernel_size=2, stride=2, padding=0, dilation=1, ceil_mode=False)\n",
              "  (6): Conv2d(16, 8, kernel_size=(3, 3), stride=(1, 1), padding=(1, 1))\n",
              "  (7): ReLU(inplace=True)\n",
              "  (8): MaxPool2d(kernel_size=2, stride=2, padding=0, dilation=1, ceil_mode=False)\n",
              "  (f1): Flatten()\n",
              "  (f2): Flatten()\n",
              "  (fc1): Linear(in_features=72, out_features=40, bias=True)\n",
              "  (relu1): ReLU()\n",
              "  (fc2): Linear(in_features=40, out_features=20, bias=True)\n",
              "  (relu2): ReLU()\n",
              "  (fc3): Linear(in_features=20, out_features=10, bias=True)\n",
              "  (sig): Softmax(dim=None)\n",
              ")"
            ]
          },
          "metadata": {
            "tags": []
          },
          "execution_count": 200
        }
      ]
    },
    {
      "cell_type": "code",
      "metadata": {
        "id": "GTaqnoZkaJq1",
        "colab_type": "code",
        "colab": {}
      },
      "source": [
        "# convert data to torch.FloatTensor\n",
        "transform = transforms.ToTensor()\n",
        "\n",
        "# load the training and test datasets\n",
        "train_data = datasets.FashionMNIST(root='data', train=True,\n",
        "                                   download=True, transform=transform)\n",
        "test_data = datasets.FashionMNIST(root='data', train=False,\n",
        "                                  download=True, transform=transform)\n",
        "\n",
        "train_data, val_set = torch.utils.data.random_split(train_data, [50000, 10000])\n",
        "# Create training and test dataloaders\n",
        "num_workers = 0\n",
        "# how many samples per batch to load\n",
        "batch_size = 64\n",
        "\n",
        "# prepare data loaders\n",
        "train_loader = torch.utils.data.DataLoader(train_data, batch_size=batch_size, num_workers=num_workers)\n",
        "val_loader = torch.utils.data.DataLoader(val_set, batch_size=batch_size, num_workers=num_workers)\n",
        "test_loader = torch.utils.data.DataLoader(test_data, batch_size=batch_size, num_workers=num_workers)"
      ],
      "execution_count": null,
      "outputs": []
    },
    {
      "cell_type": "code",
      "metadata": {
        "id": "MOE0LvVDagqL",
        "colab_type": "code",
        "colab": {}
      },
      "source": [
        "\n",
        "#loss function and optimizer\n",
        "criterion = nn.CrossEntropyLoss()\n",
        "optimizer= torch.optim.Adam(model1.parameters(), lr=0.0001)"
      ],
      "execution_count": null,
      "outputs": []
    },
    {
      "cell_type": "code",
      "metadata": {
        "id": "S8BdKYAhrcF3",
        "colab_type": "code",
        "colab": {
          "base_uri": "https://localhost:8080/",
          "height": 1000
        },
        "outputId": "bd8a98e7-7ccf-4846-9d81-0a5f824b47fe"
      },
      "source": [
        "n_epochs = 120\n",
        "# Model M3\n",
        "# for adding noise to images\n",
        "noise_factor=0.5\n",
        "epoch_loss = []\n",
        "for epoch in range(1, n_epochs+1):\n",
        "  # monitor training loss\n",
        "  train_loss = 0.0\n",
        "\n",
        "  ###################\n",
        "  # train the model #\n",
        "  ###################\n",
        "  for data in train_loader:\n",
        "      # _ stands in for labels, here\n",
        "      # no need to flatten images\n",
        "      images, labels = data\n",
        "      \n",
        "      ## add random noise to the input images\n",
        "      noisy_imgs = images + noise_factor * torch.randn(*images.shape)\n",
        "      \n",
        "      # Clip the images to be between 0 and 1\n",
        "      noisy_imgs = np.clip(noisy_imgs, 0., 1.)\n",
        "      noisy_imgs = noisy_imgs.cuda()\n",
        "      # print(noisy_imgs.shape)\n",
        "      # clear the gradients of all optimized variables\n",
        "      optimizer.zero_grad()\n",
        "      # the \"target\" is still the original, not-noisy images\n",
        "\n",
        "      output = model1(noisy_imgs)\n",
        "      loss = criterion(output, labels.cuda())\n",
        "      train_loss += loss.item()\n",
        "      optimizer.zero_grad()\n",
        "      loss.backward()\n",
        "      \n",
        "      optimizer.step()\n",
        "  print(\"Epoch : \"+str(epoch)+\" , Loss : \",str(train_loss/len(train_loader)))\n",
        "  correct = 0\n",
        "  total =0\n",
        "  with torch.no_grad():\n",
        "    for data in val_loader:\n",
        "        images, labels = data\n",
        "      \n",
        "        ## add random noise to the input images\n",
        "        noisy_imgs = images + noise_factor * torch.randn(*images.shape)\n",
        "        \n",
        "        # Clip the images to be between 0 and 1\n",
        "        noisy_imgs = np.clip(noisy_imgs, 0., 1.)\n",
        "        noisy_imgs = noisy_imgs.cuda()\n",
        "        outputs = model1(noisy_imgs)\n",
        "        # print(outputs)\n",
        "        _, predicted = torch.max(outputs.data, 1)\n",
        "        # print(predicted)\n",
        "        total += labels.size(0)\n",
        "        correct += (predicted.cpu() == labels).sum().item()\n",
        "  val_loss = 0.0\n",
        "  with torch.no_grad():\n",
        "    for data in val_loader:\n",
        "      images, labels = data\n",
        "\n",
        "      ## add random noise to the input images\n",
        "      noisy_imgs = images + noise_factor * torch.randn(*images.shape)\n",
        "\n",
        "      # Clip the images to be between 0 and 1\n",
        "      noisy_imgs = np.clip(noisy_imgs, 0., 1.)\n",
        "      noisy_imgs = noisy_imgs.cuda()\n",
        "      outputs = model1(noisy_imgs)\n",
        "      # print(outputs)\n",
        "      loss1 = criterion(outputs, labels.cuda())\n",
        "      val_loss += loss1.item()*images.size(0)\n",
        "  print(\"Epoch \",epoch,\" ,Validation Loss : \",val_loss/len(val_loader))\n",
        "  if epoch%2==0:\n",
        "    print(\"Epoch \",epoch,'Validation Accuracy :  %f %%' % (100 * (correct / float(total))))"
      ],
      "execution_count": null,
      "outputs": [
        {
          "output_type": "stream",
          "text": [
            "Epoch : 1 , Loss :  2.2457726724312432\n",
            "Epoch  1  ,Validation Loss :  138.77044633998992\n",
            "Epoch : 2 , Loss :  2.0693566759529016\n",
            "Epoch  2  ,Validation Loss :  128.25706230455143\n",
            "Epoch  2 Validation Accuracy :  47.490000 %\n",
            "Epoch : 3 , Loss :  1.9818433873793657\n",
            "Epoch  3  ,Validation Loss :  125.19547773470545\n",
            "Epoch : 4 , Loss :  1.9363642228228966\n",
            "Epoch  4  ,Validation Loss :  122.53914351979638\n",
            "Epoch  4 Validation Accuracy :  57.460000 %\n",
            "Epoch : 5 , Loss :  1.9031540823104742\n",
            "Epoch  5  ,Validation Loss :  120.6291730722804\n",
            "Epoch : 6 , Loss :  1.8806602271926371\n",
            "Epoch  6  ,Validation Loss :  119.66868266937838\n",
            "Epoch  6 Validation Accuracy :  61.490000 %\n",
            "Epoch : 7 , Loss :  1.8653314290449137\n",
            "Epoch  7  ,Validation Loss :  118.74791128316502\n",
            "Epoch : 8 , Loss :  1.85479911956031\n",
            "Epoch  8  ,Validation Loss :  118.29911900174086\n",
            "Epoch  8 Validation Accuracy :  62.410000 %\n",
            "Epoch : 9 , Loss :  1.846745716031555\n",
            "Epoch  9  ,Validation Loss :  117.61959663925657\n",
            "Epoch : 10 , Loss :  1.8380018039737516\n",
            "Epoch  10  ,Validation Loss :  117.13703330459109\n",
            "Epoch  10 Validation Accuracy :  63.980000 %\n",
            "Epoch : 11 , Loss :  1.8329855531377865\n",
            "Epoch  11  ,Validation Loss :  116.77861646178421\n",
            "Epoch : 12 , Loss :  1.827296035369034\n",
            "Epoch  12  ,Validation Loss :  116.62056108948532\n",
            "Epoch  12 Validation Accuracy :  64.640000 %\n",
            "Epoch : 13 , Loss :  1.8238516073397664\n",
            "Epoch  13  ,Validation Loss :  116.32087562949795\n",
            "Epoch : 14 , Loss :  1.8189748418910423\n",
            "Epoch  14  ,Validation Loss :  116.12552870003282\n",
            "Epoch  14 Validation Accuracy :  64.890000 %\n",
            "Epoch : 15 , Loss :  1.8153515753843594\n",
            "Epoch  15  ,Validation Loss :  115.92164606956919\n",
            "Epoch : 16 , Loss :  1.8117719091417845\n",
            "Epoch  16  ,Validation Loss :  115.68762650459435\n",
            "Epoch  16 Validation Accuracy :  65.720000 %\n",
            "Epoch : 17 , Loss :  1.8096542381264669\n",
            "Epoch  17  ,Validation Loss :  115.31290177023335\n",
            "Epoch : 18 , Loss :  1.8073803971490592\n",
            "Epoch  18  ,Validation Loss :  115.26634524886016\n",
            "Epoch  18 Validation Accuracy :  66.030000 %\n",
            "Epoch : 19 , Loss :  1.8047227228389067\n",
            "Epoch  19  ,Validation Loss :  115.26181545379056\n",
            "Epoch : 20 , Loss :  1.8027197105805282\n",
            "Epoch  20  ,Validation Loss :  114.96070997882042\n",
            "Epoch  20 Validation Accuracy :  67.130000 %\n",
            "Epoch : 21 , Loss :  1.7995591811511829\n",
            "Epoch  21  ,Validation Loss :  114.857117075829\n",
            "Epoch : 22 , Loss :  1.798665602188891\n",
            "Epoch  22  ,Validation Loss :  114.71212078507538\n",
            "Epoch  22 Validation Accuracy :  67.060000 %\n",
            "Epoch : 23 , Loss :  1.7969741830435555\n",
            "Epoch  23  ,Validation Loss :  114.37110334748675\n",
            "Epoch : 24 , Loss :  1.7947271582110764\n",
            "Epoch  24  ,Validation Loss :  114.49934494115745\n",
            "Epoch  24 Validation Accuracy :  67.260000 %\n",
            "Epoch : 25 , Loss :  1.7939803417381424\n",
            "Epoch  25  ,Validation Loss :  114.14819878985168\n",
            "Epoch : 26 , Loss :  1.7919290571871316\n",
            "Epoch  26  ,Validation Loss :  114.19432124970065\n",
            "Epoch  26 Validation Accuracy :  67.910000 %\n",
            "Epoch : 27 , Loss :  1.7903535065748502\n",
            "Epoch  27  ,Validation Loss :  114.08508316574583\n",
            "Epoch : 28 , Loss :  1.7896880272709195\n",
            "Epoch  28  ,Validation Loss :  114.33072680576592\n",
            "Epoch  28 Validation Accuracy :  67.500000 %\n",
            "Epoch : 29 , Loss :  1.787211555196806\n",
            "Epoch  29  ,Validation Loss :  113.89807765499042\n",
            "Epoch : 30 , Loss :  1.787087250396114\n",
            "Epoch  30  ,Validation Loss :  113.78792001031766\n",
            "Epoch  30 Validation Accuracy :  67.760000 %\n",
            "Epoch : 31 , Loss :  1.7841850566437176\n",
            "Epoch  31  ,Validation Loss :  113.44848082475602\n",
            "Epoch : 32 , Loss :  1.7851594143816272\n",
            "Epoch  32  ,Validation Loss :  113.59589370192995\n",
            "Epoch  32 Validation Accuracy :  68.450000 %\n",
            "Epoch : 33 , Loss :  1.7827595344284917\n",
            "Epoch  33  ,Validation Loss :  113.87485897768835\n",
            "Epoch : 34 , Loss :  1.7805861882541492\n",
            "Epoch  34  ,Validation Loss :  113.72836851618092\n",
            "Epoch  34 Validation Accuracy :  68.030000 %\n",
            "Epoch : 35 , Loss :  1.777611518302537\n",
            "Epoch  35  ,Validation Loss :  113.48724531671803\n",
            "Epoch : 36 , Loss :  1.7800303795148649\n",
            "Epoch  36  ,Validation Loss :  113.444630118692\n",
            "Epoch  36 Validation Accuracy :  68.480000 %\n",
            "Epoch : 37 , Loss :  1.7788557512376009\n",
            "Epoch  37  ,Validation Loss :  113.50950365005785\n",
            "Epoch : 38 , Loss :  1.777758349695474\n",
            "Epoch  38  ,Validation Loss :  113.35178389822602\n",
            "Epoch  38 Validation Accuracy :  68.910000 %\n",
            "Epoch : 39 , Loss :  1.7761993333506767\n",
            "Epoch  39  ,Validation Loss :  113.4395923614502\n",
            "Epoch : 40 , Loss :  1.7763069111977696\n",
            "Epoch  40  ,Validation Loss :  113.20175429666118\n",
            "Epoch  40 Validation Accuracy :  69.290000 %\n",
            "Epoch : 41 , Loss :  1.7754444810740477\n",
            "Epoch  41  ,Validation Loss :  113.3795659496526\n",
            "Epoch : 42 , Loss :  1.7735008315357101\n",
            "Epoch  42  ,Validation Loss :  113.05611400239786\n",
            "Epoch  42 Validation Accuracy :  69.160000 %\n",
            "Epoch : 43 , Loss :  1.7737663452277708\n",
            "Epoch  43  ,Validation Loss :  112.90097655764052\n",
            "Epoch : 44 , Loss :  1.7725020404666891\n",
            "Epoch  44  ,Validation Loss :  113.0863774779496\n",
            "Epoch  44 Validation Accuracy :  68.990000 %\n",
            "Epoch : 45 , Loss :  1.7737605728761618\n",
            "Epoch  45  ,Validation Loss :  112.89998117677725\n",
            "Epoch : 46 , Loss :  1.7710476223465121\n",
            "Epoch  46  ,Validation Loss :  112.95513142142326\n",
            "Epoch  46 Validation Accuracy :  69.530000 %\n",
            "Epoch : 47 , Loss :  1.7714495930220464\n",
            "Epoch  47  ,Validation Loss :  112.65828141133497\n",
            "Epoch : 48 , Loss :  1.7704020766041162\n",
            "Epoch  48  ,Validation Loss :  112.75913040501297\n",
            "Epoch  48 Validation Accuracy :  69.860000 %\n",
            "Epoch : 49 , Loss :  1.7698277414912154\n",
            "Epoch  49  ,Validation Loss :  112.70256223496358\n",
            "Epoch : 50 , Loss :  1.7694775131352418\n",
            "Epoch  50  ,Validation Loss :  112.59968581472992\n",
            "Epoch  50 Validation Accuracy :  69.490000 %\n",
            "Epoch : 51 , Loss :  1.767751685646184\n",
            "Epoch  51  ,Validation Loss :  112.71156707083344\n",
            "Epoch : 52 , Loss :  1.768304226343589\n",
            "Epoch  52  ,Validation Loss :  112.73314858697782\n",
            "Epoch  52 Validation Accuracy :  69.970000 %\n",
            "Epoch : 53 , Loss :  1.7675405445001315\n",
            "Epoch  53  ,Validation Loss :  112.42447122950463\n",
            "Epoch : 54 , Loss :  1.766367783631815\n",
            "Epoch  54  ,Validation Loss :  112.71193471531959\n",
            "Epoch  54 Validation Accuracy :  69.790000 %\n",
            "Epoch : 55 , Loss :  1.765527041366948\n",
            "Epoch  55  ,Validation Loss :  112.4824663393057\n",
            "Epoch : 56 , Loss :  1.7656976367201647\n",
            "Epoch  56  ,Validation Loss :  112.43500630567029\n",
            "Epoch  56 Validation Accuracy :  70.330000 %\n",
            "Epoch : 57 , Loss :  1.7653990054069577\n",
            "Epoch  57  ,Validation Loss :  112.54614498357104\n",
            "Epoch : 58 , Loss :  1.7635330190439054\n",
            "Epoch  58  ,Validation Loss :  112.62606250252693\n",
            "Epoch  58 Validation Accuracy :  70.120000 %\n",
            "Epoch : 59 , Loss :  1.7652484093175824\n",
            "Epoch  59  ,Validation Loss :  112.47526704581679\n",
            "Epoch : 60 , Loss :  1.76258709531306\n",
            "Epoch  60  ,Validation Loss :  112.24568997522827\n",
            "Epoch  60 Validation Accuracy :  70.440000 %\n",
            "Epoch : 61 , Loss :  1.7631951104039731\n",
            "Epoch  61  ,Validation Loss :  112.21104623102079\n",
            "Epoch : 62 , Loss :  1.7624252715988842\n",
            "Epoch  62  ,Validation Loss :  112.3425630703094\n",
            "Epoch  62 Validation Accuracy :  70.900000 %\n",
            "Epoch : 63 , Loss :  1.761694958905125\n",
            "Epoch  63  ,Validation Loss :  112.48249081897129\n",
            "Epoch : 64 , Loss :  1.7623153421884912\n",
            "Epoch  64  ,Validation Loss :  112.09080161562392\n",
            "Epoch  64 Validation Accuracy :  69.950000 %\n",
            "Epoch : 65 , Loss :  1.7608055763537316\n",
            "Epoch  65  ,Validation Loss :  111.99103144020032\n",
            "Epoch : 66 , Loss :  1.7598061101211002\n",
            "Epoch  66  ,Validation Loss :  111.97855515692645\n",
            "Epoch  66 Validation Accuracy :  70.780000 %\n",
            "Epoch : 67 , Loss :  1.760838399000485\n",
            "Epoch  67  ,Validation Loss :  112.11627831428673\n",
            "Epoch : 68 , Loss :  1.7600591861073622\n",
            "Epoch  68  ,Validation Loss :  111.95730233648021\n",
            "Epoch  68 Validation Accuracy :  70.770000 %\n",
            "Epoch : 69 , Loss :  1.7610565090118466\n",
            "Epoch  69  ,Validation Loss :  112.11649201022591\n",
            "Epoch : 70 , Loss :  1.758733758231258\n",
            "Epoch  70  ,Validation Loss :  112.03726441693154\n",
            "Epoch  70 Validation Accuracy :  70.910000 %\n",
            "Epoch : 71 , Loss :  1.7593743182204264\n",
            "Epoch  71  ,Validation Loss :  112.02011382959451\n",
            "Epoch : 72 , Loss :  1.75870846482494\n",
            "Epoch  72  ,Validation Loss :  112.0780088582616\n",
            "Epoch  72 Validation Accuracy :  70.870000 %\n",
            "Epoch : 73 , Loss :  1.7584177043736744\n",
            "Epoch  73  ,Validation Loss :  111.66866462853304\n",
            "Epoch : 74 , Loss :  1.7576040102697699\n",
            "Epoch  74  ,Validation Loss :  112.05046532260384\n",
            "Epoch  74 Validation Accuracy :  70.850000 %\n",
            "Epoch : 75 , Loss :  1.7570373851929784\n",
            "Epoch  75  ,Validation Loss :  112.07867579854977\n",
            "Epoch : 76 , Loss :  1.7560201907706687\n",
            "Epoch  76  ,Validation Loss :  111.75041566836606\n",
            "Epoch  76 Validation Accuracy :  71.160000 %\n",
            "Epoch : 77 , Loss :  1.7576994507209114\n",
            "Epoch  77  ,Validation Loss :  111.88416919586764\n",
            "Epoch : 78 , Loss :  1.754342451729738\n",
            "Epoch  78  ,Validation Loss :  111.72495149503088\n",
            "Epoch  78 Validation Accuracy :  70.830000 %\n",
            "Epoch : 79 , Loss :  1.754402516900426\n",
            "Epoch  79  ,Validation Loss :  111.58995307630794\n",
            "Epoch : 80 , Loss :  1.7549489547529489\n",
            "Epoch  80  ,Validation Loss :  111.8280882136837\n",
            "Epoch  80 Validation Accuracy :  70.430000 %\n",
            "Epoch : 81 , Loss :  1.7553389430655848\n",
            "Epoch  81  ,Validation Loss :  111.6758848299646\n",
            "Epoch : 82 , Loss :  1.75549867634883\n",
            "Epoch  82  ,Validation Loss :  111.80091173937366\n",
            "Epoch  82 Validation Accuracy :  70.310000 %\n",
            "Epoch : 83 , Loss :  1.7563421602749154\n",
            "Epoch  83  ,Validation Loss :  111.75393713203965\n",
            "Epoch : 84 , Loss :  1.7545927555664727\n",
            "Epoch  84  ,Validation Loss :  111.92296301483348\n",
            "Epoch  84 Validation Accuracy :  70.670000 %\n",
            "Epoch : 85 , Loss :  1.7541161921932875\n",
            "Epoch  85  ,Validation Loss :  111.48448928298464\n",
            "Epoch : 86 , Loss :  1.7544020607953181\n",
            "Epoch  86  ,Validation Loss :  111.9978612911929\n",
            "Epoch  86 Validation Accuracy :  70.670000 %\n",
            "Epoch : 87 , Loss :  1.7548033031051422\n",
            "Epoch  87  ,Validation Loss :  111.59532785111932\n",
            "Epoch : 88 , Loss :  1.7532242740816473\n",
            "Epoch  88  ,Validation Loss :  111.81218770507034\n",
            "Epoch  88 Validation Accuracy :  70.820000 %\n",
            "Epoch : 89 , Loss :  1.7533438013642646\n",
            "Epoch  89  ,Validation Loss :  111.54835628096465\n",
            "Epoch : 90 , Loss :  1.752586132577618\n",
            "Epoch  90  ,Validation Loss :  111.84057862591591\n",
            "Epoch  90 Validation Accuracy :  70.500000 %\n",
            "Epoch : 91 , Loss :  1.7517443479174544\n",
            "Epoch  91  ,Validation Loss :  111.65387056435749\n",
            "Epoch : 92 , Loss :  1.7530867753126431\n",
            "Epoch  92  ,Validation Loss :  111.90231099705787\n",
            "Epoch  92 Validation Accuracy :  71.290000 %\n",
            "Epoch : 93 , Loss :  1.753677203527192\n",
            "Epoch  93  ,Validation Loss :  111.70881347899224\n",
            "Epoch : 94 , Loss :  1.7531438834222077\n",
            "Epoch  94  ,Validation Loss :  111.70718575738798\n",
            "Epoch  94 Validation Accuracy :  71.350000 %\n",
            "Epoch : 95 , Loss :  1.7526690097111266\n",
            "Epoch  95  ,Validation Loss :  111.46922010676876\n",
            "Epoch : 96 , Loss :  1.7517492390044815\n",
            "Epoch  96  ,Validation Loss :  111.39891206534804\n",
            "Epoch  96 Validation Accuracy :  71.360000 %\n",
            "Epoch : 97 , Loss :  1.752018548491056\n",
            "Epoch  97  ,Validation Loss :  111.4714251475729\n",
            "Epoch : 98 , Loss :  1.752368342845946\n",
            "Epoch  98  ,Validation Loss :  111.85408724645141\n",
            "Epoch  98 Validation Accuracy :  70.960000 %\n",
            "Epoch : 99 , Loss :  1.753276001919261\n",
            "Epoch  99  ,Validation Loss :  111.55056084796881\n",
            "Epoch : 100 , Loss :  1.7490274775058716\n",
            "Epoch  100  ,Validation Loss :  111.36768136966\n",
            "Epoch  100 Validation Accuracy :  70.850000 %\n",
            "Epoch : 101 , Loss :  1.7512190895312278\n",
            "Epoch  101  ,Validation Loss :  111.33824692258409\n",
            "Epoch : 102 , Loss :  1.750332932490522\n",
            "Epoch  102  ,Validation Loss :  111.52285451949781\n",
            "Epoch  102 Validation Accuracy :  71.430000 %\n",
            "Epoch : 103 , Loss :  1.7503234817243902\n",
            "Epoch  103  ,Validation Loss :  111.58779661822471\n",
            "Epoch : 104 , Loss :  1.7514385605407188\n",
            "Epoch  104  ,Validation Loss :  111.38006028096387\n",
            "Epoch  104 Validation Accuracy :  70.900000 %\n",
            "Epoch : 105 , Loss :  1.7509522636223327\n",
            "Epoch  105  ,Validation Loss :  111.73242862968688\n",
            "Epoch : 106 , Loss :  1.751385126882197\n",
            "Epoch  106  ,Validation Loss :  111.35818876278628\n",
            "Epoch  106 Validation Accuracy :  71.880000 %\n",
            "Epoch : 107 , Loss :  1.7496224504602536\n",
            "Epoch  107  ,Validation Loss :  111.59062372195493\n",
            "Epoch : 108 , Loss :  1.7489379359328228\n",
            "Epoch  108  ,Validation Loss :  111.33086432924696\n",
            "Epoch  108 Validation Accuracy :  71.160000 %\n",
            "Epoch : 109 , Loss :  1.7497944353181687\n",
            "Epoch  109  ,Validation Loss :  111.33325497815564\n",
            "Epoch : 110 , Loss :  1.751103906375368\n",
            "Epoch  110  ,Validation Loss :  111.21984320233582\n",
            "Epoch  110 Validation Accuracy :  71.260000 %\n",
            "Epoch : 111 , Loss :  1.7488804212616533\n",
            "Epoch  111  ,Validation Loss :  111.547876066463\n",
            "Epoch : 112 , Loss :  1.7489102772434655\n",
            "Epoch  112  ,Validation Loss :  111.21656398408732\n",
            "Epoch  112 Validation Accuracy :  71.590000 %\n",
            "Epoch : 113 , Loss :  1.7492262905515978\n",
            "Epoch  113  ,Validation Loss :  111.25970523372577\n",
            "Epoch : 114 , Loss :  1.7500221328357297\n",
            "Epoch  114  ,Validation Loss :  111.42104629953955\n",
            "Epoch  114 Validation Accuracy :  71.620000 %\n",
            "Epoch : 115 , Loss :  1.7493525578847626\n",
            "Epoch  115  ,Validation Loss :  111.45751086921449\n",
            "Epoch : 116 , Loss :  1.7489359296496263\n",
            "Epoch  116  ,Validation Loss :  111.49343539195455\n",
            "Epoch  116 Validation Accuracy :  71.600000 %\n",
            "Epoch : 117 , Loss :  1.748695802048344\n",
            "Epoch  117  ,Validation Loss :  111.4652815654779\n",
            "Epoch : 118 , Loss :  1.748200744924033\n",
            "Epoch  118  ,Validation Loss :  111.3214132952842\n",
            "Epoch  118 Validation Accuracy :  71.270000 %\n",
            "Epoch : 119 , Loss :  1.7466252273915674\n",
            "Epoch  119  ,Validation Loss :  111.16266998971344\n",
            "Epoch : 120 , Loss :  1.748032280246315\n",
            "Epoch  120  ,Validation Loss :  111.21685767933062\n",
            "Epoch  120 Validation Accuracy :  71.470000 %\n"
          ],
          "name": "stdout"
        }
      ]
    },
    {
      "cell_type": "code",
      "metadata": {
        "id": "0vh2khzdDdBb",
        "colab_type": "code",
        "colab": {
          "base_uri": "https://localhost:8080/",
          "height": 33
        },
        "outputId": "e9b45924-b5f2-47f8-f5c5-ce1ff4138d1f"
      },
      "source": [
        "# To get the performance of M3 Classfication model\n",
        "correct = 0\n",
        "total = 0\n",
        "with torch.no_grad():\n",
        "    for data in test_loader:\n",
        "        images, labels = data\n",
        "      \n",
        "        ## add random noise to the input images\n",
        "        noisy_imgs = images + noise_factor * torch.randn(*images.shape)\n",
        "        \n",
        "        # Clip the images to be between 0 and 1\n",
        "        noisy_imgs = np.clip(noisy_imgs, 0., 1.)\n",
        "        noisy_imgs = noisy_imgs.cuda()\n",
        "        outputs = model1(noisy_imgs)\n",
        "        # print(outputs)\n",
        "        _, predicted = torch.max(outputs.data, 1)\n",
        "        # print(predicted)\n",
        "        total += labels.size(0)\n",
        "        correct += (predicted.cpu() == labels).sum().item()\n",
        "\n",
        "print('Accuracy of the network on the FashionMNIST(M2 model) test images: %d %%' % (\n",
        "    100 * correct / total))\n"
      ],
      "execution_count": null,
      "outputs": [
        {
          "output_type": "stream",
          "text": [
            "Accuracy of the network on the FashionMNIST(M2 model) test images: 70 %\n"
          ],
          "name": "stdout"
        }
      ]
    },
    {
      "cell_type": "code",
      "metadata": {
        "id": "CLV5VOpy2V_G",
        "colab_type": "code",
        "colab": {}
      },
      "source": [
        "torch.save(model1,\"m3\")"
      ],
      "execution_count": null,
      "outputs": []
    },
    {
      "cell_type": "code",
      "metadata": {
        "id": "7_aCEhnd2ZmR",
        "colab_type": "code",
        "colab": {}
      },
      "source": [
        "model1 = torch.load(\"m3\")"
      ],
      "execution_count": null,
      "outputs": []
    },
    {
      "cell_type": "code",
      "metadata": {
        "id": "0DQKDK5WFVgj",
        "colab_type": "code",
        "colab": {}
      },
      "source": [
        "class CNN(nn.Module):\n",
        "    def __init__(self):\n",
        "        super(CNN, self).__init__()\n",
        "        self.layer1 = nn.Sequential(\n",
        "            nn.Conv2d(1, 16, kernel_size=5, padding=2),\n",
        "            nn.BatchNorm2d(16),\n",
        "            nn.ReLU(),\n",
        "            nn.MaxPool2d(2))\n",
        "        self.layer2 = nn.Sequential(\n",
        "            nn.Conv2d(16, 32, kernel_size=5, padding=2),\n",
        "            nn.BatchNorm2d(32),\n",
        "            nn.ReLU(),\n",
        "            nn.MaxPool2d(2))\n",
        "        self.fc = nn.Linear(7*7*32, 10)\n",
        "        \n",
        "    def forward(self, x):\n",
        "        out = self.layer1(x)\n",
        "\n",
        "        out = self.layer2(out)\n",
        "\n",
        "        out = out.view(out.size(0), -1)\n",
        "\n",
        "        out = self.fc(out)\n",
        "\n",
        "        return out"
      ],
      "execution_count": null,
      "outputs": []
    },
    {
      "cell_type": "code",
      "metadata": {
        "id": "_YwvP-TtGORl",
        "colab_type": "code",
        "colab": {}
      },
      "source": [
        "#instance of the Conv Net i.e, M2 (Classification model)\n",
        "cnn = CNN();\n",
        "cnn.cuda()\n",
        "#loss function and optimizer\n",
        "criterion = nn.CrossEntropyLoss();\n",
        "optimizer = torch.optim.Adam(cnn.parameters(), lr=0.0001);"
      ],
      "execution_count": null,
      "outputs": []
    },
    {
      "cell_type": "code",
      "metadata": {
        "id": "u9tZGiB6Gp0J",
        "colab_type": "code",
        "colab": {}
      },
      "source": [
        ""
      ],
      "execution_count": null,
      "outputs": []
    },
    {
      "cell_type": "code",
      "metadata": {
        "id": "5dOcbyaqGagx",
        "colab_type": "code",
        "colab": {
          "base_uri": "https://localhost:8080/",
          "height": 520
        },
        "outputId": "365b00c1-cb37-4027-9b11-596119898b47"
      },
      "source": [
        "epoch_loss = [];\n",
        "\n",
        "num_epochs = 10\n",
        "for epoch in range(num_epochs):\n",
        "    train_loss =0.0\n",
        "    for i, (images, labels) in enumerate(train_loader):\n",
        "        \n",
        "        # Forward + Backward + Optimize\n",
        "       \n",
        "        optimizer.zero_grad()\n",
        "        outputs = cnn(images.cuda())\n",
        "        loss = criterion(outputs, labels.cuda())\n",
        "        loss.backward()\n",
        "        optimizer.step()\n",
        "        train_loss += loss.item()*images.size(0)\n",
        "        val_loss = 0.0\n",
        "        \n",
        "      \n",
        "    correct = 0\n",
        "    total = 0\n",
        "    with torch.no_grad():\n",
        "        for data in test_loader:\n",
        "            images, labels = data\n",
        "            outputs = cnn(images.cuda())\n",
        "            _, predicted = torch.max(outputs.data, 1)\n",
        "            total += labels.size(0)\n",
        "            correct += (predicted.detach().cpu() == labels).sum().item()\n",
        "\n",
        "    print('Validation Accuracy  : %d %%' % (\n",
        "        100 * correct / total))\n",
        "    val_loss = 0.0\n",
        "    with torch.no_grad():\n",
        "          for data in val_loader:\n",
        "            images, labels = data\n",
        "            ## add random noise to the input images\n",
        "            outputs = cnn(images.cuda())\n",
        "            loss1 = criterion(outputs, labels.cuda())\n",
        "            val_loss += loss1.item()*images.size(0)\n",
        "    print(\"Epoch \",epoch+1,\" ,Validation Loss : \",val_loss/len(val_loader))\n",
        "    train_loss = train_loss/len(train_loader)\n",
        "    epoch_loss.append(train_loss)\n",
        "    print('Epoch: {} \\tTraining Loss: {:.6f}'.format(epoch+1,train_loss))"
      ],
      "execution_count": null,
      "outputs": [
        {
          "output_type": "stream",
          "text": [
            "Validation Accuracy  : 88 %\n",
            "Epoch  1  ,Validation Loss :  18.0404765681856\n",
            "Epoch: 1 \tTraining Loss: 17.498278\n",
            "Validation Accuracy  : 89 %\n",
            "Epoch  2  ,Validation Loss :  17.520253023524194\n",
            "Epoch: 2 \tTraining Loss: 16.570643\n",
            "Validation Accuracy  : 89 %\n",
            "Epoch  3  ,Validation Loss :  17.1211244771435\n",
            "Epoch: 3 \tTraining Loss: 15.809656\n",
            "Validation Accuracy  : 89 %\n",
            "Epoch  4  ,Validation Loss :  16.814450748407157\n",
            "Epoch: 4 \tTraining Loss: 15.162118\n",
            "Validation Accuracy  : 89 %\n",
            "Epoch  5  ,Validation Loss :  16.573293849161477\n",
            "Epoch: 5 \tTraining Loss: 14.590688\n",
            "Validation Accuracy  : 89 %\n",
            "Epoch  6  ,Validation Loss :  16.378009288933626\n",
            "Epoch: 6 \tTraining Loss: 14.077194\n",
            "Validation Accuracy  : 89 %\n",
            "Epoch  7  ,Validation Loss :  16.220395967459222\n",
            "Epoch: 7 \tTraining Loss: 13.614837\n",
            "Validation Accuracy  : 90 %\n",
            "Epoch  8  ,Validation Loss :  16.110124167363356\n",
            "Epoch: 8 \tTraining Loss: 13.187455\n",
            "Validation Accuracy  : 90 %\n",
            "Epoch  9  ,Validation Loss :  16.009064808772628\n",
            "Epoch: 9 \tTraining Loss: 12.789036\n",
            "Validation Accuracy  : 90 %\n",
            "Epoch  10  ,Validation Loss :  15.933381416995054\n",
            "Epoch: 10 \tTraining Loss: 12.413493\n"
          ],
          "name": "stdout"
        }
      ]
    },
    {
      "cell_type": "code",
      "metadata": {
        "id": "o1iHp7RPMOTL",
        "colab_type": "code",
        "colab": {}
      },
      "source": [
        "torch.save(cnn,\"M2\")"
      ],
      "execution_count": null,
      "outputs": []
    },
    {
      "cell_type": "code",
      "metadata": {
        "id": "3DdQ2Y5lLpLy",
        "colab_type": "code",
        "colab": {
          "base_uri": "https://localhost:8080/",
          "height": 33
        },
        "outputId": "67d4d350-23e5-4f04-a684-025f511e8571"
      },
      "source": [
        "# To get the performance of M2 Classfication model\n",
        "correct = 0\n",
        "total = 0\n",
        "with torch.no_grad():\n",
        "    for data in test_loader:\n",
        "        images, labels = data\n",
        "        outputs = cnn(images.cuda())\n",
        "        _, predicted = torch.max(outputs.data, 1)\n",
        "        total += labels.size(0)\n",
        "        correct += (predicted.detach().cpu() == labels).sum().item()\n",
        "\n",
        "print('Accuracy of the network on the FashionMNIST test images: %d %%' % (\n",
        "    100 * correct / total))\n"
      ],
      "execution_count": null,
      "outputs": [
        {
          "output_type": "stream",
          "text": [
            "Accuracy of the network on the FashionMNIST test images: 90 %\n"
          ],
          "name": "stdout"
        }
      ]
    }
  ]
}